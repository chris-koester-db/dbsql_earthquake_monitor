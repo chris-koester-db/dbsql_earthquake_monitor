{
 "cells": [
  {
   "cell_type": "code",
   "execution_count": 0,
   "metadata": {
    "application/vnd.databricks.v1+cell": {
     "cellMetadata": {
      "byteLimit": 2048000,
      "rowLimit": 10000
     },
     "inputWidgets": {},
     "nuid": "fd18232a-dec6-4bc4-b015-1ed4d8308da6",
     "showTitle": false,
     "tableResultSettingsMap": {},
     "title": ""
    }
   },
   "outputs": [],
   "source": [
    "use catalog identifier(:catalog);\n",
    "use schema identifier(:schema);"
   ]
  },
  {
   "cell_type": "code",
   "execution_count": 0,
   "metadata": {
    "application/vnd.databricks.v1+cell": {
     "cellMetadata": {
      "byteLimit": 2048000,
      "rowLimit": 10000
     },
     "inputWidgets": {},
     "nuid": "0befb207-ebcf-493d-a9ae-77def7bb2da5",
     "showTitle": false,
     "tableResultSettingsMap": {},
     "title": ""
    }
   },
   "outputs": [],
   "source": [
    "describe function extended list_warehouses"
   ]
  },
  {
   "cell_type": "code",
   "execution_count": 0,
   "metadata": {
    "application/vnd.databricks.v1+cell": {
     "cellMetadata": {
      "byteLimit": 2048000,
      "rowLimit": 10000
     },
     "inputWidgets": {},
     "nuid": "1c6f76f7-ee34-4a66-8c78-628eceec3cec",
     "showTitle": false,
     "tableResultSettingsMap": {},
     "title": ""
    }
   },
   "outputs": [],
   "source": [
    "from (select list_warehouses(:run_as_user_id) as resp)\n",
    "|> select explode(resp.warehouses) as col\n",
    "|> select\n",
    "     col.auto_stop_mins,\n",
    "     col.channel,\n",
    "     col.cluster_size,\n",
    "     col.creator_name,\n",
    "     col.enable_serverless_compute,\n",
    "     col.health,\n",
    "     col.id,\n",
    "     col.instance_profile_arn,\n",
    "     col.jdbc_url,\n",
    "     col.max_num_clusters,\n",
    "     col.min_num_clusters,\n",
    "     col.name,\n",
    "     col.num_active_sessions,\n",
    "     col.num_clusters,\n",
    "     col.odbc_params,\n",
    "     col.spot_instance_policy,\n",
    "     col.state,\n",
    "     col.tags,\n",
    "     col.warehouse_type"
   ]
  }
 ],
 "metadata": {
  "application/vnd.databricks.v1+notebook": {
   "computePreferences": null,
   "dashboards": [],
   "environmentMetadata": null,
   "inputWidgetPreferences": null,
   "language": "sql",
   "notebookMetadata": {
    "pythonIndentUnit": 2
   },
   "notebookName": "list_warehouses",
   "widgets": {
    "catalog": {
     "currentValue": "main",
     "nuid": "4af6f590-834e-4cc5-a63a-b6f0e224eb66",
     "typedWidgetInfo": {
      "autoCreated": false,
      "defaultValue": "main",
      "label": "01 Catalog",
      "name": "catalog",
      "options": {
       "widgetDisplayType": "Text",
       "validationRegex": null
      },
      "parameterDataType": "String"
     },
     "widgetInfo": {
      "widgetType": "text",
      "defaultValue": "main",
      "label": "01 Catalog",
      "name": "catalog",
      "options": {
       "widgetType": "text",
       "autoCreated": null,
       "validationRegex": null
      }
     }
    },
    "run_as_user_id": {
     "currentValue": "",
     "nuid": "45e229cb-904c-491b-8cb6-f97ff8022458",
     "typedWidgetInfo": {
      "autoCreated": false,
      "defaultValue": "",
      "label": "03 Run As User ID",
      "name": "run_as_user_id",
      "options": {
       "widgetDisplayType": "Text",
       "validationRegex": null
      },
      "parameterDataType": "String"
     },
     "widgetInfo": {
      "widgetType": "text",
      "defaultValue": "",
      "label": "03 Run As User ID",
      "name": "run_as_user_id",
      "options": {
       "widgetType": "text",
       "autoCreated": null,
       "validationRegex": null
      }
     }
    },
    "schema": {
     "currentValue": "chris_koester",
     "nuid": "fcfc0b96-71c8-4ea1-83e4-0e7dd12456f0",
     "typedWidgetInfo": {
      "autoCreated": false,
      "defaultValue": "databricks_api",
      "label": "02 Schema",
      "name": "schema",
      "options": {
       "widgetDisplayType": "Text",
       "validationRegex": null
      },
      "parameterDataType": "String"
     },
     "widgetInfo": {
      "widgetType": "text",
      "defaultValue": "databricks_api",
      "label": "02 Schema",
      "name": "schema",
      "options": {
       "widgetType": "text",
       "autoCreated": false,
       "validationRegex": null
      }
     }
    }
   }
  },
  "language_info": {
   "name": "sql"
  }
 },
 "nbformat": 4,
 "nbformat_minor": 0
}
