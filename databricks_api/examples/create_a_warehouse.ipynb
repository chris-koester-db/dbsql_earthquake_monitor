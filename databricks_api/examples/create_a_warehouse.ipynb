{
 "cells": [
  {
   "cell_type": "code",
   "execution_count": 0,
   "metadata": {
    "application/vnd.databricks.v1+cell": {
     "cellMetadata": {
      "byteLimit": 2048000,
      "rowLimit": 10000
     },
     "inputWidgets": {},
     "nuid": "2a641895-2844-4888-91a6-89255da37010",
     "showTitle": false,
     "tableResultSettingsMap": {},
     "title": ""
    }
   },
   "outputs": [],
   "source": [
    "use catalog identifier(:catalog);\n",
    "use schema identifier(:schema);"
   ]
  },
  {
   "cell_type": "code",
   "execution_count": 0,
   "metadata": {
    "application/vnd.databricks.v1+cell": {
     "cellMetadata": {
      "byteLimit": 2048000,
      "rowLimit": 10000
     },
     "inputWidgets": {},
     "nuid": "e5a569d4-78a9-49d3-9994-9eab040ed118",
     "showTitle": false,
     "tableResultSettingsMap": {},
     "title": ""
    }
   },
   "outputs": [],
   "source": [
    "describe function extended create_a_warehouse"
   ]
  },
  {
   "cell_type": "code",
   "execution_count": 0,
   "metadata": {
    "application/vnd.databricks.v1+cell": {
     "cellMetadata": {
      "byteLimit": 2048000,
      "rowLimit": 10000
     },
     "inputWidgets": {},
     "nuid": "b16e7648-0ffc-43ea-8028-519d7c0552a9",
     "showTitle": false,
     "tableResultSettingsMap": {},
     "title": ""
    }
   },
   "outputs": [],
   "source": [
    "from (\n",
    "  select create_a_warehouse(\n",
    "    name => :warehouse_name,\n",
    "    cluster_size => :cluster_size,\n",
    "    max_num_clusters => :max_num_clusters,\n",
    "    auto_stop_mins => :auto_stop_mins\n",
    "  ) as resp\n",
    ")\n",
    "|> select resp.id"
   ]
  }
 ],
 "metadata": {
  "application/vnd.databricks.v1+notebook": {
   "computePreferences": null,
   "dashboards": [],
   "environmentMetadata": null,
   "inputWidgetPreferences": null,
   "language": "sql",
   "notebookMetadata": {
    "pythonIndentUnit": 2
   },
   "notebookName": "create_a_warehouse",
   "widgets": {
    "auto_stop_mins": {
     "currentValue": "10",
     "nuid": "ae136797-eba2-472b-a9bd-9525d4437478",
     "typedWidgetInfo": {
      "autoCreated": false,
      "defaultValue": "10",
      "label": "06 Auto Stop Minutes",
      "name": "auto_stop_mins",
      "options": {
       "widgetDisplayType": "Text",
       "validationRegex": null
      },
      "parameterDataType": "String"
     },
     "widgetInfo": {
      "widgetType": "text",
      "defaultValue": "10",
      "label": "06 Auto Stop Minutes",
      "name": "auto_stop_mins",
      "options": {
       "widgetType": "text",
       "autoCreated": null,
       "validationRegex": null
      }
     }
    },
    "catalog": {
     "currentValue": "main",
     "nuid": "1d481698-b617-498b-99c3-6ea1df4f4e3d",
     "typedWidgetInfo": {
      "autoCreated": false,
      "defaultValue": "main",
      "label": "01 Catalog",
      "name": "catalog",
      "options": {
       "widgetDisplayType": "Text",
       "validationRegex": null
      },
      "parameterDataType": "String"
     },
     "widgetInfo": {
      "widgetType": "text",
      "defaultValue": "main",
      "label": "01 Catalog",
      "name": "catalog",
      "options": {
       "widgetType": "text",
       "autoCreated": null,
       "validationRegex": null
      }
     }
    },
    "cluster_size": {
     "currentValue": "2X-Small",
     "nuid": "2e71cfce-11e2-4311-836d-c9325d6b34b6",
     "typedWidgetInfo": {
      "autoCreated": false,
      "defaultValue": "2X-Small",
      "label": "04 Cluster Size",
      "name": "cluster_size",
      "options": {
       "widgetDisplayType": "Dropdown",
       "choices": [
        "2X-Small",
        "X-Small",
        "Small",
        "Medium",
        "Large",
        "X-Large",
        "2X-Large",
        "3X-Large",
        "4X-Large"
       ],
       "fixedDomain": true,
       "multiselect": false
      },
      "parameterDataType": "String"
     },
     "widgetInfo": {
      "widgetType": "dropdown",
      "defaultValue": "2X-Small",
      "label": "04 Cluster Size",
      "name": "cluster_size",
      "options": {
       "widgetType": "dropdown",
       "autoCreated": null,
       "choices": [
        "2X-Small",
        "X-Small",
        "Small",
        "Medium",
        "Large",
        "X-Large",
        "2X-Large",
        "3X-Large",
        "4X-Large"
       ]
      }
     }
    },
    "max_num_clusters": {
     "currentValue": "1",
     "nuid": "bd5bda22-36be-480c-aa31-7ac62af304e9",
     "typedWidgetInfo": {
      "autoCreated": false,
      "defaultValue": "1",
      "label": "05 Max Num Clusters",
      "name": "max_num_clusters",
      "options": {
       "widgetDisplayType": "Text",
       "validationRegex": null
      },
      "parameterDataType": "String"
     },
     "widgetInfo": {
      "widgetType": "text",
      "defaultValue": "1",
      "label": "05 Max Num Clusters",
      "name": "max_num_clusters",
      "options": {
       "widgetType": "text",
       "autoCreated": null,
       "validationRegex": null
      }
     }
    },
    "schema": {
     "currentValue": "chris_koester",
     "nuid": "203612de-0f15-4523-b738-0078227e01a6",
     "typedWidgetInfo": {
      "autoCreated": false,
      "defaultValue": "databricks_api",
      "label": "02 Schema",
      "name": "schema",
      "options": {
       "widgetDisplayType": "Text",
       "validationRegex": null
      },
      "parameterDataType": "String"
     },
     "widgetInfo": {
      "widgetType": "text",
      "defaultValue": "databricks_api",
      "label": "02 Schema",
      "name": "schema",
      "options": {
       "widgetType": "text",
       "autoCreated": null,
       "validationRegex": null
      }
     }
    },
    "warehouse_name": {
     "currentValue": "sql_sdk",
     "nuid": "63042a4b-e9d2-4af5-afbd-95e26c0878f4",
     "typedWidgetInfo": {
      "autoCreated": false,
      "defaultValue": "sql_sdk",
      "label": "03 Warehouse Name",
      "name": "warehouse_name",
      "options": {
       "widgetDisplayType": "Text",
       "validationRegex": null
      },
      "parameterDataType": "String"
     },
     "widgetInfo": {
      "widgetType": "text",
      "defaultValue": "sql_sdk",
      "label": "03 Warehouse Name",
      "name": "warehouse_name",
      "options": {
       "widgetType": "text",
       "autoCreated": false,
       "validationRegex": null
      }
     }
    }
   }
  },
  "language_info": {
   "name": "sql"
  }
 },
 "nbformat": 4,
 "nbformat_minor": 0
}
