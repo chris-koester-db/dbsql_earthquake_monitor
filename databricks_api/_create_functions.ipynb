{
 "cells": [
  {
   "cell_type": "code",
   "execution_count": 0,
   "metadata": {
    "application/vnd.databricks.v1+cell": {
     "cellMetadata": {},
     "inputWidgets": {},
     "nuid": "c79f6990-81da-4afa-9068-13628fc8b77d",
     "showTitle": false,
     "tableResultSettingsMap": {},
     "title": ""
    }
   },
   "outputs": [],
   "source": [
    "use catalog identifier(:catalog);\n",
    "use schema identifier(:schema);"
   ]
  },
  {
   "cell_type": "markdown",
   "metadata": {
    "application/vnd.databricks.v1+cell": {
     "cellMetadata": {},
     "inputWidgets": {},
     "nuid": "63ab6b1a-95bb-4e3f-a22e-d0611f730c51",
     "showTitle": false,
     "tableResultSettingsMap": {},
     "title": ""
    }
   },
   "source": [
    "# Unity Catalog"
   ]
  },
  {
   "cell_type": "markdown",
   "metadata": {
    "application/vnd.databricks.v1+cell": {
     "cellMetadata": {},
     "inputWidgets": {},
     "nuid": "fbe3af77-17c3-4772-a0cb-add5e557f460",
     "showTitle": false,
     "tableResultSettingsMap": {},
     "title": ""
    }
   },
   "source": [
    "## Tables"
   ]
  },
  {
   "cell_type": "code",
   "execution_count": 0,
   "metadata": {
    "application/vnd.databricks.v1+cell": {
     "cellMetadata": {},
     "inputWidgets": {},
     "nuid": "14484abc-d7ce-4ba5-bfab-313536ca2c62",
     "showTitle": true,
     "tableResultSettingsMap": {},
     "title": "Get a Table"
    }
   },
   "outputs": [],
   "source": [
    "-- https://docs.databricks.com/api/workspace/tables/get\n",
    "-- create function if not exists get_table(table_name string)\n",
    "create or replace function get_table(table_name string)\n",
    "comment 'Gets a table from the metastore for a specific catalog and schema. https://docs.databricks.com/api/workspace/tables/get'\n",
    "return\n",
    "from (select\n",
    "  http_request(\n",
    "    conn => 'databricks_api',\n",
    "    method => 'GET',\n",
    "    path => concat('2.1/unity-catalog/tables/', table_name)\n",
    "  ).text as resp\n",
    ")\n",
    "|> select\n",
    "     from_json(\n",
    "       resp,\n",
    "       'STRUCT<access_point: STRING, browse_only: BOOLEAN, catalog_name: STRING, columns: ARRAY<STRUCT<comment: STRING, mask: STRUCT<function_name: STRING, using_column_names: ARRAY<STRING>>, name: STRING, nullable: BOOLEAN, partition_index: BIGINT, position: BIGINT, type_interval_type: STRING, type_json: STRING, type_name: STRING, type_precision: BIGINT, type_scale: BIGINT, type_text: STRING>>, comment: STRING, created_at: BIGINT, created_by: STRING, data_access_configuration_id: STRING, data_source_format: STRING, deleted_at: BIGINT, delta_runtime_properties_kvpairs: STRUCT<delta_runtime_properties: STRUCT<property1: STRING, property2: STRING>>, effective_predictive_optimization_flag: STRUCT<inherited_from_name: STRING, inherited_from_type: STRING, value: STRING>, enable_predictive_optimization: STRING, full_name: STRING, metastore_id: STRING, name: STRING, owner: STRING, pipeline_id: STRING, properties: STRUCT<property1: STRING, property2: STRING>, row_filter: STRUCT<function_name: STRING, input_column_names: ARRAY<STRING>>, schema_name: STRING, sql_path: STRING, storage_credential_name: STRING, storage_location: STRING, table_constraints: ARRAY<STRUCT<foreign_key_constraint: STRUCT<child_columns: ARRAY<STRING>, name: STRING, parent_columns: ARRAY<STRING>, parent_table: STRING>, named_table_constraint: STRUCT<name: STRING>, primary_key_constraint: STRUCT<child_columns: ARRAY<STRING>, name: STRING>>>, table_id: STRING, table_type: STRING, updated_at: BIGINT, updated_by: STRING, view_definition: STRING, view_dependencies: STRUCT<dependencies: ARRAY<STRUCT<function: STRUCT<function_full_name: STRING>, table: STRUCT<table_full_name: STRING>>>>>'\n",
    "     ) as resp;"
   ]
  },
  {
   "cell_type": "markdown",
   "metadata": {
    "application/vnd.databricks.v1+cell": {
     "cellMetadata": {},
     "inputWidgets": {},
     "nuid": "cb4b3d3a-4163-4c18-b343-b196874b8270",
     "showTitle": false,
     "tableResultSettingsMap": {},
     "title": ""
    }
   },
   "source": [
    "# File Management"
   ]
  },
  {
   "cell_type": "markdown",
   "metadata": {
    "application/vnd.databricks.v1+cell": {
     "cellMetadata": {},
     "inputWidgets": {},
     "nuid": "9f33dc5e-0b93-49df-8470-d08b8f2c7822",
     "showTitle": false,
     "tableResultSettingsMap": {},
     "title": ""
    }
   },
   "source": [
    "## Files"
   ]
  },
  {
   "cell_type": "code",
   "execution_count": 0,
   "metadata": {
    "application/vnd.databricks.v1+cell": {
     "cellMetadata": {},
     "inputWidgets": {},
     "nuid": "7905d9d8-b1c6-4525-b873-dbd10241eaa6",
     "showTitle": true,
     "tableResultSettingsMap": {},
     "title": "List Directory Contents"
    }
   },
   "outputs": [],
   "source": [
    "-- https://docs.databricks.com/api/workspace/files/listdirectorycontents\n",
    "create or replace function list_directory_contents(directory_path string)\n",
    "comment 'Returns the contents of a directory. If there is no directory at the specified path, the API returns a HTTP 404 error. https://docs.databricks.com/api/workspace/files/listdirectorycontents'\n",
    "return\n",
    "from (select\n",
    "  http_request(\n",
    "    conn => 'databricks_api',\n",
    "    method => 'GET',\n",
    "    path => concat('2.0/fs/directories', directory_path)\n",
    "  ).text as resp\n",
    ")\n",
    "|> select\n",
    "     from_json(\n",
    "       resp,\n",
    "       'STRUCT<contents: ARRAY<STRUCT<file_size: BIGINT, is_directory: BOOLEAN, last_modified: BIGINT, name: STRING, path: STRING>>>'\n",
    "     ) as resp;"
   ]
  },
  {
   "cell_type": "markdown",
   "metadata": {
    "application/vnd.databricks.v1+cell": {
     "cellMetadata": {},
     "inputWidgets": {},
     "nuid": "4d2b045c-675d-4cb2-99e4-2de03944ce05",
     "showTitle": false,
     "tableResultSettingsMap": {},
     "title": ""
    }
   },
   "source": [
    "# Databricks SQL"
   ]
  },
  {
   "cell_type": "markdown",
   "metadata": {
    "application/vnd.databricks.v1+cell": {
     "cellMetadata": {},
     "inputWidgets": {},
     "nuid": "b690c95a-1cc6-453f-ac9c-2f03e3ca594b",
     "showTitle": false,
     "tableResultSettingsMap": {},
     "title": ""
    }
   },
   "source": [
    "## SQL Warehouses"
   ]
  },
  {
   "cell_type": "code",
   "execution_count": 0,
   "metadata": {
    "application/vnd.databricks.v1+cell": {
     "cellMetadata": {},
     "inputWidgets": {},
     "nuid": "2c7ed3f1-1b97-4fdd-9ef1-fcf44ddfccdd",
     "showTitle": true,
     "tableResultSettingsMap": {},
     "title": "List Warehouses"
    }
   },
   "outputs": [],
   "source": [
    "-- https://docs.databricks.com/api/workspace/warehouses/list\n",
    "create or replace function list_warehouses(\n",
    "  run_as_user_id int default null\n",
    ")\n",
    "comment 'Lists all SQL warehouses that a user has manager permissions on. https://docs.databricks.com/api/workspace/warehouses/list'\n",
    "return\n",
    "from (select\n",
    "  http_request(\n",
    "    conn => 'databricks_api',\n",
    "    method => 'GET',\n",
    "    path => '2.0/sql/warehouses',\n",
    "    json => \n",
    "      to_json(\n",
    "        named_struct(\n",
    "          'run_as_user_id', run_as_user_id\n",
    "        )\n",
    "      )\n",
    "  ).text as resp\n",
    ")\n",
    "|> select\n",
    "     from_json(\n",
    "       resp,\n",
    "       'STRUCT<warehouses: ARRAY<STRUCT<auto_stop_mins: STRING, channel: STRUCT<dbsql_version: STRING, name: STRING>, cluster_size: STRING, creator_name: STRING, enable_photon: BOOLEAN, enable_serverless_compute: BOOLEAN, health: STRUCT<details: STRING, failure_reason: STRUCT<code: STRING, parameters: STRUCT<property1: STRING, property2: STRING>, type: STRING>, message: STRING, status: STRING, summary: STRING>, id: STRING, instance_profile_arn: STRING, jdbc_url: STRING, max_num_clusters: BIGINT, min_num_clusters: STRING, name: STRING, num_active_sessions: BIGINT, num_clusters: BIGINT, odbc_params: STRUCT<hostname: STRING, path: STRING, port: BIGINT, protocol: STRING>, spot_instance_policy: STRING, state: STRING, tags: STRUCT<custom_tags: ARRAY<STRUCT<key: STRING, value: STRING>>>, warehouse_type: STRING>>>'\n",
    "     ) as resp;"
   ]
  },
  {
   "cell_type": "code",
   "execution_count": 0,
   "metadata": {
    "application/vnd.databricks.v1+cell": {
     "cellMetadata": {},
     "inputWidgets": {},
     "nuid": "61e34172-4f27-4bbe-aa59-0f7e3a5a51f2",
     "showTitle": true,
     "tableResultSettingsMap": {},
     "title": "Create a Warehouse"
    }
   },
   "outputs": [],
   "source": [
    "-- https://docs.databricks.com/api/workspace/warehouses/create\n",
    "create or replace function create_a_warehouse(\n",
    "  name string,\n",
    "  cluster_size string,\n",
    "  max_num_clusters int,\n",
    "  auto_stop_mins int\n",
    ")\n",
    "comment 'Creates a new SQL warehouse. https://docs.databricks.com/api/workspace/warehouses/create'\n",
    "return\n",
    "from (select\n",
    "  http_request(\n",
    "    conn => 'databricks_api',\n",
    "    method => 'POST',\n",
    "    path => '2.0/sql/warehouses',\n",
    "    json => \n",
    "      to_json(\n",
    "        named_struct(\n",
    "          'name', name,\n",
    "          'cluster_size', cluster_size,\n",
    "          'max_num_clusters', max_num_clusters,\n",
    "          'auto_stop_mins', auto_stop_mins\n",
    "        )\n",
    "      )\n",
    "  ).text as resp\n",
    ")\n",
    "|> select\n",
    "     from_json(\n",
    "       resp,\n",
    "       'STRUCT<id: STRING>'\n",
    "     ) as resp;"
   ]
  },
  {
   "cell_type": "code",
   "execution_count": 0,
   "metadata": {
    "application/vnd.databricks.v1+cell": {
     "cellMetadata": {},
     "inputWidgets": {},
     "nuid": "cb4c3fb7-e021-44b3-95a8-e48217018b66",
     "showTitle": true,
     "tableResultSettingsMap": {},
     "title": "Get Warehouse Info"
    }
   },
   "outputs": [],
   "source": [
    "-- https://docs.databricks.com/api/workspace/warehouses/get\n",
    "create or replace function get_warehouse_info(\n",
    "  id string\n",
    ")\n",
    "comment 'Gets the information for a single SQL warehouse. https://docs.databricks.com/api/workspace/warehouses/get'\n",
    "return\n",
    "from (select\n",
    "  http_request(\n",
    "    conn => 'databricks_api',\n",
    "    method => 'GET',\n",
    "    path => concat('2.0/sql/warehouses/', id)\n",
    "  ).text as resp\n",
    ")\n",
    "|> select\n",
    "     from_json(\n",
    "       resp,\n",
    "       'STRUCT<auto_stop_mins: STRING, channel: STRUCT<dbsql_version: STRING, name: STRING>, cluster_size: STRING, creator_name: STRING, enable_photon: BOOLEAN, enable_serverless_compute: BOOLEAN, health: STRUCT<details: STRING, failure_reason: STRUCT<code: STRING, parameters: STRUCT<property1: STRING, property2: STRING>, type: STRING>, message: STRING, status: STRING, summary: STRING>, id: STRING, instance_profile_arn: STRING, jdbc_url: STRING, max_num_clusters: BIGINT, min_num_clusters: STRING, name: STRING, num_active_sessions: BIGINT, num_clusters: BIGINT, odbc_params: STRUCT<hostname: STRING, path: STRING, port: BIGINT, protocol: STRING>, spot_instance_policy: STRING, state: STRING, tags: STRUCT<custom_tags: ARRAY<STRUCT<key: STRING, value: STRING>>>, warehouse_type: STRING>'\n",
    "     ) as resp;"
   ]
  },
  {
   "cell_type": "code",
   "execution_count": 0,
   "metadata": {
    "application/vnd.databricks.v1+cell": {
     "cellMetadata": {},
     "inputWidgets": {},
     "nuid": "67a8a70c-b615-4906-ae40-6a0bac7ba09f",
     "showTitle": true,
     "tableResultSettingsMap": {},
     "title": "Delete a Warehouse"
    }
   },
   "outputs": [],
   "source": [
    "-- https://docs.databricks.com/api/workspace/warehouses/delete\n",
    "create or replace function delete_warehouse(\n",
    "  id string\n",
    ")\n",
    "comment 'Deletes a SQL warehouse. https://docs.databricks.com/api/workspace/warehouses/delete'\n",
    "return\n",
    "select\n",
    "  http_request(\n",
    "    conn => 'databricks_api',\n",
    "    method => 'DELETE',\n",
    "    path => concat('2.0/sql/warehouses/', id)\n",
    "  ).text as resp;"
   ]
  },
  {
   "cell_type": "markdown",
   "metadata": {
    "application/vnd.databricks.v1+cell": {
     "cellMetadata": {},
     "inputWidgets": {},
     "nuid": "b4c82a4b-2b43-4071-939f-8e2b4f46f028",
     "showTitle": false,
     "tableResultSettingsMap": {},
     "title": ""
    }
   },
   "source": [
    "## Query History"
   ]
  },
  {
   "cell_type": "code",
   "execution_count": 0,
   "metadata": {
    "application/vnd.databricks.v1+cell": {
     "cellMetadata": {},
     "inputWidgets": {},
     "nuid": "aca1f5a6-d741-47a5-86d3-15ee53f13541",
     "showTitle": true,
     "tableResultSettingsMap": {},
     "title": "List Queries"
    }
   },
   "outputs": [],
   "source": [
    "-- A python function is used only so that this solution can be reconciled using\n",
    "-- the Databricks SDK. Python and SQL functions don't return identical Unix timestamps.\n",
    "create or replace function unix_timestamp_ms(dt string)\n",
    "  returns bigint\n",
    "  deterministic\n",
    "  comment 'Returns the number of milliseconds since the Unix Epoch'\n",
    "  language python\n",
    "  as $$\n",
    "    from datetime import datetime\n",
    "    dt_object = datetime.strptime(dt, '%Y-%m-%d %H:%M:%S')\n",
    "    return int(dt_object.timestamp() * 1000)\n",
    "  $$;\n",
    "\n",
    "-- https://docs.databricks.com/api/workspace/queryhistory/list\n",
    "-- include_metrics type is string because of a bug related to boolean arguments\n",
    "create or replace function list_queries(\n",
    "  start_time_ms bigint,\n",
    "  end_time_ms bigint,\n",
    "  warehouse_ids array<string>,\n",
    "  page_token string,\n",
    "  max_results int default 100,\n",
    "  include_metrics string default 'true'\n",
    ")\n",
    "comment 'List the history of queries through SQL warehouses, and serverless compute. You can filter by user ID, warehouse ID, status, and time range. Most recently started queries are returned first (up to max_results in request). The pagination token returned in response can be used to list subsequent query statuses. https://docs.databricks.com/api/workspace/queryhistory/list'\n",
    "return\n",
    "from (select\n",
    "  http_request(\n",
    "    conn => 'databricks_api',\n",
    "    method => 'GET',\n",
    "    path => '2.0/sql/history/queries',\n",
    "    json => \n",
    "      to_json(\n",
    "        named_struct('filter_by',\n",
    "          named_struct('query_start_time_range',\n",
    "            named_struct('start_time_ms', start_time_ms, 'end_time_ms', end_time_ms),\n",
    "            'warehouse_ids', warehouse_ids\n",
    "          ),\n",
    "          'max_results', max_results,\n",
    "          'page_token', page_token,\n",
    "          'include_metrics', include_metrics\n",
    "        )\n",
    "      )\n",
    "  ).text as resp\n",
    ")\n",
    "|> select\n",
    "     from_json(\n",
    "       resp,\n",
    "       'struct<has_next_page: boolean, next_page_token: string, res: array<struct<channel_used: struct<dbsql_version: string, name: string>, client_application: string, duration: bigint, endpoint_id: string, error_message: string, executed_as_user_id: bigint, executed_as_user_name: string, execution_end_time_ms: bigint, is_final: boolean, lookup_key: string, metrics: struct<compilation_time_ms: bigint, execution_time_ms: bigint, network_sent_bytes: bigint, overloading_queue_start_timestamp: bigint, photon_total_time_ms: bigint, provisioning_queue_start_timestamp: bigint, pruned_bytes: bigint, pruned_files_count: bigint, query_compilation_start_timestamp: bigint, read_bytes: bigint, read_cache_bytes: bigint, read_files_count: bigint, read_partitions_count: bigint, read_remote_bytes: bigint, result_fetch_time_ms: bigint, result_from_cache: boolean, rows_produced_count: bigint, rows_read_count: bigint, spill_to_disk_bytes: bigint, task_total_time_ms: bigint, total_time_ms: bigint, write_remote_bytes: bigint>, plans_state: string, query_end_time_ms: bigint, query_id: string, query_source: struct<alert_id: string, dashboard_id: string, genie_space_id: string, job_info: struct<job_id: string, job_run_id: string, job_task_run_id: string>, legacy_dashboard_id: string, notebook_id: string, sql_query_id: string>, query_start_time_ms: bigint, query_text: string, rows_produced: bigint, spark_ui_url: string, statement_type: string, status: string, user_id: bigint, user_name: string, warehouse_id: string>>>'\n",
    "     );"
   ]
  }
 ],
 "metadata": {
  "application/vnd.databricks.v1+notebook": {
   "computePreferences": null,
   "dashboards": [],
   "environmentMetadata": null,
   "inputWidgetPreferences": null,
   "language": "sql",
   "notebookMetadata": {
    "pythonIndentUnit": 2
   },
   "notebookName": "_create_functions",
   "widgets": {
    "catalog": {
     "currentValue": "main",
     "nuid": "08ddde38-b816-4103-a56d-86f939bfdd1d",
     "typedWidgetInfo": {
      "autoCreated": false,
      "defaultValue": "main",
      "label": "01 Catalog",
      "name": "catalog",
      "options": {
       "widgetDisplayType": "Text",
       "validationRegex": null
      },
      "parameterDataType": "String"
     },
     "widgetInfo": {
      "widgetType": "text",
      "defaultValue": "main",
      "label": "01 Catalog",
      "name": "catalog",
      "options": {
       "widgetType": "text",
       "autoCreated": false,
       "validationRegex": null
      }
     }
    },
    "schema": {
     "currentValue": "databricks_api",
     "nuid": "f9debade-80f2-40a4-a50f-0b47c3955791",
     "typedWidgetInfo": {
      "autoCreated": false,
      "defaultValue": "databricks_api",
      "label": "02 Schema",
      "name": "schema",
      "options": {
       "widgetDisplayType": "Text",
       "validationRegex": null
      },
      "parameterDataType": "String"
     },
     "widgetInfo": {
      "widgetType": "text",
      "defaultValue": "databricks_api",
      "label": "02 Schema",
      "name": "schema",
      "options": {
       "widgetType": "text",
       "autoCreated": false,
       "validationRegex": null
      }
     }
    }
   }
  },
  "language_info": {
   "name": "sql"
  }
 },
 "nbformat": 4,
 "nbformat_minor": 0
}
